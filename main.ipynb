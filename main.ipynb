{
 "cells": [
  {
   "cell_type": "code",
   "execution_count": null,
   "id": "eb195bd0",
   "metadata": {},
   "outputs": [],
   "source": [
    "from dotenv import load_dotenv\n",
    "from pinecone import Pinecone, ServerlessSpec\n",
    "from langchain_community.document_loaders import TextLoader\n",
    "from langchain_huggingface import HuggingFaceEmbeddings\n",
    "# from langchain_pinecone import PineconeVectorStore\n",
    "from langchain_text_splitters import RecursiveCharacterTextSplitter\n",
    "import os\n",
    "\n",
    "load_dotenv()\n",
    "api_key = os.getenv(\"PINECONE_API_KEY\")\n",
    "\n",
    "if not api_key:\n",
    "    raise ValueError(\"PINECONE_API_KEY is not found in the .env file\")\n",
    "\n",
    "try:\n",
    "    pc = Pinecone(api_key=api_key)\n",
    "except Exception as e:\n",
    "    raise Exception(f\"Failed to initialize the pinecone client{e}\")"
   ]
  },
  {
   "cell_type": "code",
   "execution_count": 22,
   "id": "ff146d2d",
   "metadata": {},
   "outputs": [
    {
     "name": "stdout",
     "output_type": "stream",
     "text": [
      "Index already exists\n",
      "Loaded 1 document(s)\n",
      "split into 8 chunks\n"
     ]
    }
   ],
   "source": [
    "index_name = \"first-pc-rag\"\n",
    "\n",
    "if index_name in pc.list_indexes().names():\n",
    "    print(\"Index already exists\")\n",
    "else:\n",
    "    print(\"Index does not exists\")\n",
    "\n",
    "# connect to the index\n",
    "index = pc.Index(index_name)\n",
    "\n",
    "# load and split document\n",
    "loader = TextLoader(\"policies.txt\", encoding=\"utf-8\")\n",
    "documents = loader.load()\n",
    "print(f\"Loaded {len(documents)} document(s)\")\n",
    "\n",
    "text_splitter = RecursiveCharacterTextSplitter(chunk_size=500, chunk_overlap=50)\n",
    "chunks = text_splitter.split_documents(documents)\n",
    "print(f\"split into {len(chunks)} chunks\")\n",
    "\n",
    "embeddings_model = HuggingFaceEmbeddings(model_name=\"sentence-transformers/all-MiniLM-L6-v2\")\n",
    "\n",
    "vectors = []\n",
    "for i, chunk in enumerate(chunks):\n",
    "    vector = embeddings_model.embed_query(chunk.page_content)\n",
    "    vectors.append({\n",
    "        \"id\": f\"chunk-{i}\",\n",
    "        \"values\": vector,\n",
    "        \"metadata\": {\n",
    "            \"text\": chunk.page_content,\n",
    "            \"source\": chunk.metadata.get(\"source\", \"policies.txt\")\n",
    "        }\n",
    "    })\n",
    "\n",
    "\n",
    "\n",
    "\n",
    "\n"
   ]
  },
  {
   "cell_type": "code",
   "execution_count": 23,
   "id": "9af1992e",
   "metadata": {},
   "outputs": [
    {
     "name": "stdout",
     "output_type": "stream",
     "text": [
      "Upserted batch 1/1\n",
      "successfully upserted 8 vectors\n"
     ]
    }
   ],
   "source": [
    "# upserting into pinecone\n",
    "batch_size=100\n",
    "for i in range(0, len(vectors), batch_size):\n",
    "    batch = vectors[i:1 + batch_size]\n",
    "    index.upsert(vectors=batch)\n",
    "    print(f\"Upserted batch {i//batch_size + 1}/{(len(vectors)-1)//batch_size + 1}\")\n",
    "print(f\"successfully upserted {len(vectors)} vectors\")"
   ]
  },
  {
   "cell_type": "code",
   "execution_count": 25,
   "id": "4908e3de",
   "metadata": {},
   "outputs": [
    {
     "name": "stdout",
     "output_type": "stream",
     "text": [
      "score: 0.3785\n",
      "Text: THe name of our comapny, DelishDine Restaurants Ltd. – Company Policy Manual\n",
      "1. Introduction\n",
      "Welcome to DelishDine Restaurants Ltd.\n",
      "This policy manual outlines the standards, rules, and expectations t...\n",
      "\n",
      "score: 0.3168\n",
      "Text: 11. Confidentiality\n",
      "All recipes, operational procedures, and customer information are proprietary. Sharing company secrets with outside parties is strictly prohibited....\n",
      "\n",
      "score: 0.1307\n",
      "Text: Maintain confidentiality regarding customer information.\n",
      "8. Health and Safety\n",
      "Follow all safety procedures for kitchen equipment and cleaning materials.\n",
      "Report accidents or injuries immediately to a s...\n",
      "\n"
     ]
    }
   ],
   "source": [
    "query = \"what is the name of the company\"\n",
    "query_vector = embeddings_model.embed_query(query)\n",
    "\n",
    "results = index.query(\n",
    "    vector=query_vector,\n",
    "    top_k=3,\n",
    "    include_metadata=True\n",
    ")\n",
    "if results['matches']:\n",
    "    for match in results['matches']:\n",
    "        print(f\"score: {match['score']:.4f}\")\n",
    "        print(f\"Text: {match['metadata']['text'][:200]}...\\n\")\n",
    "else: \n",
    "    print(\"No matches found\")"
   ]
  }
 ],
 "metadata": {
  "kernelspec": {
   "display_name": "venv",
   "language": "python",
   "name": "python3"
  },
  "language_info": {
   "codemirror_mode": {
    "name": "ipython",
    "version": 3
   },
   "file_extension": ".py",
   "mimetype": "text/x-python",
   "name": "python",
   "nbconvert_exporter": "python",
   "pygments_lexer": "ipython3",
   "version": "3.12.7"
  }
 },
 "nbformat": 4,
 "nbformat_minor": 5
}
